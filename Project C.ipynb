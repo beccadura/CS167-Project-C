{
 "cells": [
  {
   "cell_type": "code",
   "execution_count": 2,
   "metadata": {},
   "outputs": [
    {
     "name": "stderr",
     "output_type": "stream",
     "text": [
      "Using Theano backend.\n"
     ]
    }
   ],
   "source": [
    "#Name: Becca Dura\n",
    "\n",
    "#importing each of the libraries we'll need\n",
    "from keras.preprocessing.image import ImageDataGenerator\n",
    "from keras.models import Sequential\n",
    "from keras.layers import Conv2D\n",
    "from keras.layers import Flatten\n",
    "from keras.layers import Dense\n",
    "from keras.layers import MaxPooling2D\n",
    "from keras.layers import Dropout\n",
    "import matplotlib.pyplot as plt\n",
    "%matplotlib inline"
   ]
  },
  {
   "cell_type": "code",
   "execution_count": 4,
   "metadata": {},
   "outputs": [],
   "source": [
    "# dimensions of our images.\n",
    "img_width, img_height = 150, 150\n",
    "\n",
    "#the directories where our train and test data is\n",
    "train_data_dir = 'Monkey_Species/training'\n",
    "validation_data_dir = 'Monkey_Species/validation'\n",
    "\n",
    "#we will feed the training images to the neural network\n",
    "#in batches of 32 images at a time so we don't have \n",
    "#to load the entire data set into memory\n",
    "batch_size = 32\n",
    "number_train_examples = 1097\n",
    "number_validation_examples = 272"
   ]
  },
  {
   "cell_type": "code",
   "execution_count": 5,
   "metadata": {},
   "outputs": [
    {
     "name": "stdout",
     "output_type": "stream",
     "text": [
      "Found 1097 images belonging to 10 classes.\n",
      "Found 272 images belonging to 10 classes.\n"
     ]
    }
   ],
   "source": [
    "# used to rescale the pixel values from [0, 255] to between 0 and 1\n",
    "datagen = ImageDataGenerator(rescale=1./255)\n",
    "\n",
    "#These will look for our training and testing data\n",
    "#in their respective directory, and it will figure out\n",
    "#the class of each example based on the subfolder it is in\n",
    "train_generator = datagen.flow_from_directory(\n",
    "        train_data_dir,\n",
    "        target_size=(img_width, img_height),\n",
    "        batch_size=batch_size,\n",
    "        class_mode='categorical')\n",
    "\n",
    "validation_generator = datagen.flow_from_directory(\n",
    "        validation_data_dir,\n",
    "        target_size=(img_width, img_height),\n",
    "        batch_size=batch_size,\n",
    "        class_mode='categorical')\n"
   ]
  },
  {
   "cell_type": "code",
   "execution_count": 7,
   "metadata": {},
   "outputs": [],
   "source": [
    "model1 = Sequential()\n",
    "model1.add(Conv2D(32, (3, 3), activation = 'relu', input_shape=(img_width, img_height, 3)))\n",
    "model1.add(MaxPooling2D(pool_size=(2, 2)))\n",
    "\n",
    "model1.add(Conv2D(32, (3, 3),activation = 'relu'))\n",
    "model1.add(MaxPooling2D(pool_size=(2, 2)))\n",
    "\n",
    "model1.add(Conv2D(64, (3, 3),activation = 'relu'))\n",
    "model1.add(MaxPooling2D(pool_size=(2, 2)))\n",
    "\n",
    "model1.add(Flatten())\n",
    "model1.add(Dense(64,activation = 'relu'))\n",
    "model1.add(Dropout(0.5))\n",
    "model1.add(Dense(10,activation='softmax'))\n",
    "\n",
    "\n",
    "model1.compile(loss='categorical_crossentropy',\n",
    "                optimizer='rmsprop',\n",
    "                metrics=['accuracy'])"
   ]
  },
  {
   "cell_type": "code",
   "execution_count": 8,
   "metadata": {},
   "outputs": [
    {
     "name": "stdout",
     "output_type": "stream",
     "text": [
      "Epoch 1/15\n",
      "34/34 [==============================] - 116s 3s/step - loss: 2.3307 - acc: 0.1352 - val_loss: 2.1019 - val_acc: 0.2617\n",
      "Epoch 2/15\n",
      "34/34 [==============================] - 127s 4s/step - loss: 2.0723 - acc: 0.2910 - val_loss: 1.8850 - val_acc: 0.3458\n",
      "Epoch 3/15\n",
      "34/34 [==============================] - 126s 4s/step - loss: 1.7063 - acc: 0.3922 - val_loss: 1.6815 - val_acc: 0.4083\n",
      "Epoch 4/15\n",
      "34/34 [==============================] - 119s 4s/step - loss: 1.5634 - acc: 0.4611 - val_loss: 1.4712 - val_acc: 0.4958\n",
      "Epoch 5/15\n",
      "34/34 [==============================] - 133s 4s/step - loss: 1.3672 - acc: 0.5352 - val_loss: 1.4574 - val_acc: 0.5333\n",
      "Epoch 6/15\n",
      "34/34 [==============================] - 151s 4s/step - loss: 1.2087 - acc: 0.5789 - val_loss: 1.6424 - val_acc: 0.4625\n",
      "Epoch 7/15\n",
      "34/34 [==============================] - 143s 4s/step - loss: 1.1158 - acc: 0.6097 - val_loss: 1.1451 - val_acc: 0.6167\n",
      "Epoch 8/15\n",
      "34/34 [==============================] - 126s 4s/step - loss: 0.9224 - acc: 0.6893 - val_loss: 1.2086 - val_acc: 0.5792\n",
      "Epoch 9/15\n",
      "34/34 [==============================] - 117s 3s/step - loss: 0.7965 - acc: 0.7384 - val_loss: 1.2385 - val_acc: 0.6250\n",
      "Epoch 10/15\n",
      "34/34 [==============================] - 122s 4s/step - loss: 0.7564 - acc: 0.7498 - val_loss: 1.1357 - val_acc: 0.6289\n",
      "Epoch 11/15\n",
      "34/34 [==============================] - 170s 5s/step - loss: 0.6335 - acc: 0.7923 - val_loss: 0.9705 - val_acc: 0.6833\n",
      "Epoch 12/15\n",
      "34/34 [==============================] - 139s 4s/step - loss: 0.5483 - acc: 0.8120 - val_loss: 1.1627 - val_acc: 0.6000\n",
      "Epoch 13/15\n",
      "34/34 [==============================] - 157s 5s/step - loss: 0.4859 - acc: 0.8409 - val_loss: 1.1478 - val_acc: 0.6833\n",
      "Epoch 14/15\n",
      "34/34 [==============================] - 121s 4s/step - loss: 0.4094 - acc: 0.8594 - val_loss: 1.3186 - val_acc: 0.6250\n",
      "Epoch 15/15\n",
      "34/34 [==============================] - 115s 3s/step - loss: 0.3733 - acc: 0.8837 - val_loss: 1.0880 - val_acc: 0.6958\n"
     ]
    }
   ],
   "source": [
    "#train the third model\n",
    "training_results1 = model1.fit_generator(\n",
    "    train_generator,\n",
    "    steps_per_epoch=number_train_examples // batch_size,\n",
    "    epochs=15,\n",
    "    validation_data=validation_generator,\n",
    "    validation_steps=number_validation_examples // batch_size)"
   ]
  },
  {
   "cell_type": "code",
   "execution_count": 9,
   "metadata": {},
   "outputs": [
    {
     "data": {
      "image/png": "[encoded data removed]",
      "text/plain": [
       "<Figure size 432x288 with 1 Axes>"
      ]
     },
     "metadata": {
      "needs_background": "light"
     },
     "output_type": "display_data"
    }
   ],
   "source": [
    "#visualize the results of the third model\n",
    "plt.plot(training_results1.history['acc'])\n",
    "plt.plot(training_results1.history['val_acc'])\n",
    "plt.title('model accuracy')\n",
    "plt.ylabel('accuracy')\n",
    "plt.xlabel('epoch')\n",
    "plt.legend(['train', 'test'], loc='upper left')\n",
    "plt.show()"
   ]
  },
  {
   "cell_type": "code",
   "execution_count": 10,
   "metadata": {},
   "outputs": [],
   "source": [
    "model2 = Sequential()\n",
    "model2.add(Conv2D(32, (3, 3), activation = 'relu', input_shape=(img_width, img_height, 3)))\n",
    "model2.add(MaxPooling2D(pool_size=(2, 2)))\n",
    "\n",
    "model2.add(Conv2D(32, (3, 3),activation = 'relu'))\n",
    "model2.add(MaxPooling2D(pool_size=(2, 2)))\n",
    "\n",
    "model2.add(Conv2D(64, (3, 3),activation = 'relu'))\n",
    "model2.add(MaxPooling2D(pool_size=(2, 2)))\n",
    "\n",
    "model2.add(Conv2D(128, (3, 3),activation = 'relu'))\n",
    "model2.add(MaxPooling2D(pool_size=(2, 2)))\n",
    "\n",
    "model2.add(Flatten())\n",
    "model2.add(Dense(128,activation = 'relu'))\n",
    "model2.add(Dropout(0.5))\n",
    "model2.add(Dense(10,activation='softmax'))\n",
    "\n",
    "\n",
    "model2.compile(loss='categorical_crossentropy',\n",
    "                optimizer='rmsprop',\n",
    "                metrics=['accuracy'])"
   ]
  },
  {
   "cell_type": "code",
   "execution_count": 11,
   "metadata": {},
   "outputs": [
    {
     "name": "stdout",
     "output_type": "stream",
     "text": [
      "Epoch 1/15\n",
      "34/34 [==============================] - 118s 3s/step - loss: 2.3070 - acc: 0.1402 - val_loss: 2.0764 - val_acc: 0.2695\n",
      "Epoch 2/15\n",
      "34/34 [==============================] - 126s 4s/step - loss: 2.0706 - acc: 0.2722 - val_loss: 1.9515 - val_acc: 0.2750\n",
      "Epoch 3/15\n",
      "34/34 [==============================] - 122s 4s/step - loss: 1.8633 - acc: 0.3701 - val_loss: 1.7529 - val_acc: 0.4250\n",
      "Epoch 4/15\n",
      "34/34 [==============================] - 114s 3s/step - loss: 1.6382 - acc: 0.4230 - val_loss: 1.4196 - val_acc: 0.5375\n",
      "Epoch 5/15\n",
      "34/34 [==============================] - 123s 4s/step - loss: 1.4879 - acc: 0.4786 - val_loss: 1.4389 - val_acc: 0.4833\n",
      "Epoch 6/15\n",
      "34/34 [==============================] - 121s 4s/step - loss: 1.3438 - acc: 0.5462 - val_loss: 1.3021 - val_acc: 0.5458\n",
      "Epoch 7/15\n",
      "34/34 [==============================] - 118s 3s/step - loss: 1.1986 - acc: 0.5770 - val_loss: 1.1632 - val_acc: 0.5917\n",
      "Epoch 8/15\n",
      "34/34 [==============================] - 119s 3s/step - loss: 1.1281 - acc: 0.6004 - val_loss: 1.1512 - val_acc: 0.5875\n",
      "Epoch 9/15\n",
      "34/34 [==============================] - 125s 4s/step - loss: 0.9929 - acc: 0.6434 - val_loss: 1.0783 - val_acc: 0.6500\n",
      "Epoch 10/15\n",
      "34/34 [==============================] - 119s 4s/step - loss: 0.8938 - acc: 0.6910 - val_loss: 1.1104 - val_acc: 0.6016\n",
      "Epoch 11/15\n",
      "34/34 [==============================] - 129s 4s/step - loss: 0.8113 - acc: 0.7152 - val_loss: 0.9844 - val_acc: 0.6792\n",
      "Epoch 12/15\n",
      "34/34 [==============================] - 121s 4s/step - loss: 0.7100 - acc: 0.7555 - val_loss: 0.9663 - val_acc: 0.7083\n",
      "Epoch 13/15\n",
      "34/34 [==============================] - 119s 3s/step - loss: 0.5525 - acc: 0.8046 - val_loss: 1.4741 - val_acc: 0.6000\n",
      "Epoch 14/15\n",
      "34/34 [==============================] - 120s 4s/step - loss: 0.5623 - acc: 0.7995 - val_loss: 0.8401 - val_acc: 0.7250\n",
      "Epoch 15/15\n",
      "34/34 [==============================] - 115s 3s/step - loss: 0.4029 - acc: 0.8496 - val_loss: 0.9808 - val_acc: 0.7250\n"
     ]
    }
   ],
   "source": [
    "#train the fourth model\n",
    "training_results2 = model2.fit_generator(\n",
    "    train_generator,\n",
    "    steps_per_epoch=number_train_examples // batch_size,\n",
    "    epochs=15,\n",
    "    validation_data=validation_generator,\n",
    "    validation_steps=number_validation_examples // batch_size)"
   ]
  },
  {
   "cell_type": "code",
   "execution_count": 12,
   "metadata": {},
   "outputs": [
    {
     "data": {
      "image/png": "[encoded data removed]",
      "text/plain": [
       "<Figure size 432x288 with 1 Axes>"
      ]
     },
     "metadata": {
      "needs_background": "light"
     },
     "output_type": "display_data"
    }
   ],
   "source": [
    "#visualize the results of the fourth model\n",
    "plt.plot(training_results2.history['acc'])\n",
    "plt.plot(training_results2..history['val_acc'])\n",
    "plt.title('model accuracy')\n",
    "plt.ylabel('accuracy')\n",
    "plt.xlabel('epoch')\n",
    "plt.legend(['train', 'test'], loc='upper left')\n",
    "plt.show()"
   ]
  },
  {
   "cell_type": "code",
   "execution_count": 15,
   "metadata": {},
   "outputs": [
    {
     "name": "stdout",
     "output_type": "stream",
     "text": [
      "Found 1097 images belonging to 10 classes.\n",
      "Found 272 images belonging to 10 classes.\n"
     ]
    }
   ],
   "source": [
    "#MODEL TO IMPROVE\n",
    "#https://www.kaggle.com/hin7141/monkey-classification-with-cnn-90\n",
    "\n",
    "from keras.callbacks import ModelCheckpoint, EarlyStopping\n",
    "from keras.layers import Activation\n",
    "import os\n",
    "\n",
    "train_dir = 'Monkey_Species/training'\n",
    "test_dir = 'Monkey_Species/validation'\n",
    "\n",
    "LR = 1e-3\n",
    "height=150\n",
    "width=150\n",
    "channels=3\n",
    "seed=1337\n",
    "batch_size = 64\n",
    "num_classes = 10\n",
    "epochs = 15\n",
    "data_augmentation = True\n",
    "num_predictions = 20\n",
    "\n",
    "# Training generator\n",
    "train_datagen = ImageDataGenerator(\n",
    "        rescale=1./255,\n",
    "        rotation_range=40,\n",
    "        width_shift_range=0.2,\n",
    "        height_shift_range=0.2,\n",
    "        shear_range=0.2,\n",
    "        zoom_range=0.2,\n",
    "        horizontal_flip=True,\n",
    "        fill_mode='nearest')\n",
    "\n",
    "train_generator = train_datagen.flow_from_directory(train_dir, \n",
    "                                                    target_size=(height,width),\n",
    "                                                    batch_size=batch_size,\n",
    "                                                    seed=seed,\n",
    "                                                    shuffle=True,\n",
    "                                                    class_mode='categorical')\n",
    "\n",
    "# Test generator\n",
    "test_datagen = ImageDataGenerator(rescale=1./255)\n",
    "validation_generator = test_datagen.flow_from_directory(test_dir, \n",
    "                                                  target_size=(height,width), \n",
    "                                                  batch_size=batch_size,\n",
    "                                                  seed=seed,\n",
    "                                                  shuffle=False,\n",
    "                                                  class_mode='categorical')\n",
    "\n",
    "train_num = train_generator.samples\n",
    "validation_num = validation_generator.samples "
   ]
  },
  {
   "cell_type": "code",
   "execution_count": 35,
   "metadata": {},
   "outputs": [],
   "source": [
    "model = Sequential()\n",
    "model.add(Conv2D(32, (3, 3), input_shape=(150, 150, 3)))\n",
    "model.add(Activation('relu'))\n",
    "model.add(MaxPooling2D(pool_size=(2, 2)))\n",
    "\n",
    "model.add(Conv2D(32, (3, 3)))\n",
    "model.add(Activation('relu'))\n",
    "model.add(MaxPooling2D(pool_size=(2, 2)))\n",
    "\n",
    "model.add(Conv2D(64, (3, 3), padding='same'))\n",
    "model.add(Activation('relu'))\n",
    "model.add(Conv2D(64, (3, 3)))\n",
    "model.add(Activation('relu'))\n",
    "model.add(MaxPooling2D(pool_size=(2, 2)))\n",
    "model.add(Dropout(0.25))\n",
    "\n",
    "model.add(Flatten())\n",
    "model.add(Dense(512))\n",
    "model.add(Activation('relu'))\n",
    "model.add(Dropout(0.5))\n",
    "model.add(Dense(num_classes))\n",
    "model.add(Activation('softmax'))\n",
    "\n",
    "model.compile(optimizer='adam',\n",
    "              loss='categorical_crossentropy',\n",
    "              metrics=['acc'])"
   ]
  },
  {
   "cell_type": "code",
   "execution_count": 9,
   "metadata": {},
   "outputs": [
    {
     "name": "stdout",
     "output_type": "stream",
     "text": [
      "Epoch 1/15\n",
      "17/17 [==============================] - 132s 8s/step - loss: 2.3017 - acc: 0.1397 - val_loss: 2.1989 - val_acc: 0.2422\n",
      "\n",
      "Epoch 00001: val_acc improved from -inf to 0.24219, saving model to C:\\Users\\rebec\\Desktop\\Fall 2018\\CS167\\Project C/model.h5f\n",
      "Epoch 2/15\n",
      "17/17 [==============================] - 127s 7s/step - loss: 2.0738 - acc: 0.2461 - val_loss: 1.9832 - val_acc: 0.2383\n",
      "\n",
      "Epoch 00002: val_acc did not improve from 0.24219\n",
      "Epoch 3/15\n",
      "17/17 [==============================] - 131s 8s/step - loss: 1.9207 - acc: 0.2996 - val_loss: 1.7573 - val_acc: 0.3672\n",
      "\n",
      "Epoch 00003: val_acc improved from 0.24219 to 0.36719, saving model to C:\\Users\\rebec\\Desktop\\Fall 2018\\CS167\\Project C/model.h5f\n",
      "Epoch 4/15\n",
      "17/17 [==============================] - 128s 8s/step - loss: 1.7194 - acc: 0.3946 - val_loss: 1.7349 - val_acc: 0.3750\n",
      "\n",
      "Epoch 00004: val_acc improved from 0.36719 to 0.37500, saving model to C:\\Users\\rebec\\Desktop\\Fall 2018\\CS167\\Project C/model.h5f\n",
      "Epoch 5/15\n",
      "17/17 [==============================] - 133s 8s/step - loss: 1.6713 - acc: 0.4031 - val_loss: 1.5190 - val_acc: 0.4279\n",
      "\n",
      "Epoch 00005: val_acc improved from 0.37500 to 0.42786, saving model to C:\\Users\\rebec\\Desktop\\Fall 2018\\CS167\\Project C/model.h5f\n",
      "Epoch 6/15\n",
      "17/17 [==============================] - 113s 7s/step - loss: 1.5917 - acc: 0.4424 - val_loss: 1.6244 - val_acc: 0.3359\n",
      "\n",
      "Epoch 00006: val_acc did not improve from 0.42786\n",
      "Epoch 7/15\n",
      "17/17 [==============================] - 135s 8s/step - loss: 1.6234 - acc: 0.4053 - val_loss: 1.4450 - val_acc: 0.4531\n",
      "\n",
      "Epoch 00007: val_acc improved from 0.42786 to 0.45312, saving model to C:\\Users\\rebec\\Desktop\\Fall 2018\\CS167\\Project C/model.h5f\n",
      "Epoch 8/15\n",
      "17/17 [==============================] - 119s 7s/step - loss: 1.5200 - acc: 0.4427 - val_loss: 1.3958 - val_acc: 0.4961\n",
      "\n",
      "Epoch 00008: val_acc improved from 0.45312 to 0.49609, saving model to C:\\Users\\rebec\\Desktop\\Fall 2018\\CS167\\Project C/model.h5f\n",
      "Epoch 9/15\n",
      "17/17 [==============================] - 128s 8s/step - loss: 1.4417 - acc: 0.4669 - val_loss: 1.1674 - val_acc: 0.5871\n",
      "\n",
      "Epoch 00009: val_acc improved from 0.49609 to 0.58706, saving model to C:\\Users\\rebec\\Desktop\\Fall 2018\\CS167\\Project C/model.h5f\n",
      "Epoch 10/15\n",
      "17/17 [==============================] - 128s 8s/step - loss: 1.4005 - acc: 0.4881 - val_loss: 1.2681 - val_acc: 0.5312\n",
      "\n",
      "Epoch 00010: val_acc did not improve from 0.58706\n",
      "Epoch 11/15\n",
      "17/17 [==============================] - 115s 7s/step - loss: 1.3314 - acc: 0.5065 - val_loss: 1.3181 - val_acc: 0.4570\n",
      "\n",
      "Epoch 00011: val_acc did not improve from 0.58706\n",
      "Epoch 12/15\n",
      "17/17 [==============================] - 135s 8s/step - loss: 1.3604 - acc: 0.4991 - val_loss: 1.2399 - val_acc: 0.5039\n",
      "\n",
      "Epoch 00012: val_acc did not improve from 0.58706\n",
      "Epoch 13/15\n",
      "17/17 [==============================] - 131s 8s/step - loss: 1.2796 - acc: 0.5063 - val_loss: 1.1490 - val_acc: 0.5273\n",
      "\n",
      "Epoch 00013: val_acc did not improve from 0.58706\n",
      "Epoch 14/15\n",
      "17/17 [==============================] - 134s 8s/step - loss: 1.2969 - acc: 0.5266 - val_loss: 1.1811 - val_acc: 0.5821\n",
      "\n",
      "Epoch 00014: val_acc did not improve from 0.58706\n",
      "Epoch 15/15\n",
      "17/17 [==============================] - 122s 7s/step - loss: 1.2713 - acc: 0.5448 - val_loss: 1.0807 - val_acc: 0.6133\n",
      "\n",
      "Epoch 00015: val_acc improved from 0.58706 to 0.61328, saving model to C:\\Users\\rebec\\Desktop\\Fall 2018\\CS167\\Project C/model.h5f\n"
     ]
    }
   ],
   "source": [
    "filepath=str(os.getcwd()+\"/model.h5f\")\n",
    "checkpoint = ModelCheckpoint(filepath, monitor='val_acc', verbose=1, save_best_only=True, mode='max')\n",
    "# = EarlyStopping(monitor='val_acc', patience=15)\n",
    "callbacks_list = [checkpoint]#, stopper]\n",
    "\n",
    "history = model.fit_generator(train_generator,\n",
    "                              steps_per_epoch= train_num // batch_size,\n",
    "                              epochs=epochs,\n",
    "                              validation_data=train_generator,\n",
    "                              validation_steps= validation_num // batch_size,\n",
    "                              callbacks=callbacks_list, \n",
    "                              verbose = 1\n",
    "                             )"
   ]
  },
  {
   "cell_type": "code",
   "execution_count": 10,
   "metadata": {},
   "outputs": [
    {
     "data": {
      "image/png": "[encoded data removed]",
      "text/plain": [
       "<Figure size 432x288 with 1 Axes>"
      ]
     },
     "metadata": {
      "needs_background": "light"
     },
     "output_type": "display_data"
    }
   ],
   "source": [
    "acc = history.history['acc']\n",
    "val_acc = history.history['val_acc']\n",
    "loss = history.history['loss']\n",
    "val_loss = history.history['val_loss']\n",
    "epochs = range(1, len(acc) + 1)\n",
    "\n",
    "plt.title('Training and validation accuracy')\n",
    "plt.plot(epochs, acc, 'red', label='Training acc')\n",
    "plt.plot(epochs, val_acc, 'blue', label='Validation acc')\n",
    "plt.legend()\n",
    "plt.show()"
   ]
  },
  {
   "cell_type": "code",
   "execution_count": 28,
   "metadata": {},
   "outputs": [],
   "source": [
    "model2 = Sequential()\n",
    "model2.add(Conv2D(32, (3, 3), input_shape=(150, 150, 3)))\n",
    "model2.add(Activation('relu'))\n",
    "model2.add(MaxPooling2D(pool_size=(2, 2)))\n",
    "\n",
    "model2.add(Conv2D(32, (3, 3)))\n",
    "model2.add(Activation('relu'))\n",
    "model2.add(MaxPooling2D(pool_size=(2, 2)))\n",
    "\n",
    "model2.add(Conv2D(64, (3, 3), padding='same'))\n",
    "model2.add(Activation('relu'))\n",
    "model2.add(Conv2D(64, (3, 3)))\n",
    "model2.add(Activation('relu'))\n",
    "model2.add(MaxPooling2D(pool_size=(2, 2)))\n",
    "model2.add(Dropout(0.5))\n",
    "\n",
    "model2.add(Flatten())\n",
    "model2.add(Dense(512))\n",
    "model2.add(Activation('relu'))\n",
    "model2.add(Dropout(0.5))\n",
    "model2.add(Dense(num_classes))\n",
    "model2.add(Activation('softmax'))\n",
    "\n",
    "model2.compile(optimizer='adam',\n",
    "              loss='categorical_crossentropy',\n",
    "              metrics=['acc'])"
   ]
  },
  {
   "cell_type": "code",
   "execution_count": 29,
   "metadata": {
    "collapsed": true
   },
   "outputs": [
    {
     "name": "stdout",
     "output_type": "stream",
     "text": [
      "Epoch 1/15\n",
      "17/17 [==============================] - 138s 8s/step - loss: 2.2978 - acc: 0.1339 - val_loss: 2.2130 - val_acc: 0.1953\n",
      "\n",
      "Epoch 00001: val_acc improved from -inf to 0.19531, saving model to C:\\Users\\rebec\\Desktop\\Fall 2018\\CS167\\Project C/model.h5f\n",
      "Epoch 2/15\n",
      "17/17 [==============================] - 136s 8s/step - loss: 2.1148 - acc: 0.2512 - val_loss: 1.9356 - val_acc: 0.3516\n",
      "\n",
      "Epoch 00002: val_acc improved from 0.19531 to 0.35156, saving model to C:\\Users\\rebec\\Desktop\\Fall 2018\\CS167\\Project C/model.h5f\n",
      "Epoch 3/15\n",
      "17/17 [==============================] - 131s 8s/step - loss: 1.9200 - acc: 0.3006 - val_loss: 1.8057 - val_acc: 0.3555\n",
      "\n",
      "Epoch 00003: val_acc improved from 0.35156 to 0.35547, saving model to C:\\Users\\rebec\\Desktop\\Fall 2018\\CS167\\Project C/model.h5f\n",
      "Epoch 4/15\n",
      "17/17 [==============================] - 111s 7s/step - loss: 1.7399 - acc: 0.3759 - val_loss: 1.5531 - val_acc: 0.4688\n",
      "\n",
      "Epoch 00004: val_acc improved from 0.35547 to 0.46875, saving model to C:\\Users\\rebec\\Desktop\\Fall 2018\\CS167\\Project C/model.h5f\n",
      "Epoch 5/15\n",
      "17/17 [==============================] - 121s 7s/step - loss: 1.6584 - acc: 0.3879 - val_loss: 1.4783 - val_acc: 0.4826\n",
      "\n",
      "Epoch 00005: val_acc improved from 0.46875 to 0.48259, saving model to C:\\Users\\rebec\\Desktop\\Fall 2018\\CS167\\Project C/model.h5f\n",
      "Epoch 6/15\n",
      "17/17 [==============================] - 99s 6s/step - loss: 1.5765 - acc: 0.4625 - val_loss: 1.5573 - val_acc: 0.4492\n",
      "\n",
      "Epoch 00006: val_acc did not improve from 0.48259\n",
      "Epoch 7/15\n",
      "17/17 [==============================] - 113s 7s/step - loss: 1.4665 - acc: 0.4660 - val_loss: 1.4690 - val_acc: 0.4375\n",
      "\n",
      "Epoch 00007: val_acc did not improve from 0.48259\n",
      "Epoch 8/15\n",
      "17/17 [==============================] - 113s 7s/step - loss: 1.5541 - acc: 0.4411 - val_loss: 1.3602 - val_acc: 0.5078\n",
      "\n",
      "Epoch 00008: val_acc improved from 0.48259 to 0.50781, saving model to C:\\Users\\rebec\\Desktop\\Fall 2018\\CS167\\Project C/model.h5f\n",
      "Epoch 9/15\n",
      "17/17 [==============================] - 111s 7s/step - loss: 1.3620 - acc: 0.5010 - val_loss: 1.1948 - val_acc: 0.5970\n",
      "\n",
      "Epoch 00009: val_acc improved from 0.50781 to 0.59701, saving model to C:\\Users\\rebec\\Desktop\\Fall 2018\\CS167\\Project C/model.h5f\n",
      "Epoch 10/15\n",
      "17/17 [==============================] - 129s 8s/step - loss: 1.3176 - acc: 0.5276 - val_loss: 1.1836 - val_acc: 0.5703\n",
      "\n",
      "Epoch 00010: val_acc did not improve from 0.59701\n",
      "Epoch 11/15\n",
      "17/17 [==============================] - 118s 7s/step - loss: 1.3763 - acc: 0.4847 - val_loss: 1.2805 - val_acc: 0.5234\n",
      "\n",
      "Epoch 00011: val_acc did not improve from 0.59701\n",
      "Epoch 12/15\n",
      "17/17 [==============================] - 132s 8s/step - loss: 1.3504 - acc: 0.4945 - val_loss: 1.2788 - val_acc: 0.5508\n",
      "\n",
      "Epoch 00012: val_acc did not improve from 0.59701\n",
      "Epoch 13/15\n",
      "17/17 [==============================] - 123s 7s/step - loss: 1.3259 - acc: 0.5036 - val_loss: 1.1705 - val_acc: 0.5742\n",
      "\n",
      "Epoch 00013: val_acc did not improve from 0.59701\n",
      "Epoch 14/15\n",
      "17/17 [==============================] - 129s 8s/step - loss: 1.3123 - acc: 0.5179 - val_loss: 1.1423 - val_acc: 0.6020\n",
      "\n",
      "Epoch 00014: val_acc improved from 0.59701 to 0.60199, saving model to C:\\Users\\rebec\\Desktop\\Fall 2018\\CS167\\Project C/model.h5f\n",
      "Epoch 15/15\n",
      "17/17 [==============================] - 112s 7s/step - loss: 1.2525 - acc: 0.5529 - val_loss: 1.2577 - val_acc: 0.5742\n",
      "\n",
      "Epoch 00015: val_acc did not improve from 0.60199\n"
     ]
    }
   ],
   "source": [
    "filepath2=str(os.getcwd()+\"/model.h5f\")\n",
    "checkpoint2 = ModelCheckpoint(filepath2, monitor='val_acc', verbose=1, save_best_only=True, mode='max')\n",
    "# = EarlyStopping(monitor='val_acc', patience=15)\n",
    "callbacks_list2 = [checkpoint2]#, stopper]\n",
    "\n",
    "history2 = model2.fit_generator(train_generator,\n",
    "                              steps_per_epoch= train_num // batch_size,\n",
    "                              epochs=epochs,\n",
    "                              validation_data=train_generator,\n",
    "                              validation_steps= validation_num // batch_size,\n",
    "                              callbacks=callbacks_list2, \n",
    "                              verbose = 1\n",
    "                             )"
   ]
  },
  {
   "cell_type": "code",
   "execution_count": 31,
   "metadata": {},
   "outputs": [
    {
     "data": {
      "image/png": "[encoded data removed]",
      "text/plain": [
       "<Figure size 432x288 with 1 Axes>"
      ]
     },
     "metadata": {
      "needs_background": "light"
     },
     "output_type": "display_data"
    }
   ],
   "source": [
    "acc = history2.history['acc']\n",
    "val_acc = history2.history['val_acc']\n",
    "loss = history2.history['loss']\n",
    "val_loss = history2.history['val_loss']\n",
    "epochs = range(1, len(acc) + 1)\n",
    "\n",
    "plt.title('Training and validation accuracy')\n",
    "plt.plot(epochs, acc, 'red', label='Training acc')\n",
    "plt.plot(epochs, val_acc, 'blue', label='Validation acc')\n",
    "plt.legend()\n",
    "plt.show()"
   ]
  },
  {
   "cell_type": "code",
   "execution_count": 41,
   "metadata": {},
   "outputs": [],
   "source": [
    "model3 = Sequential()\n",
    "model3.add(Conv2D(32, (3, 3), input_shape=(150, 150, 3)))\n",
    "model3.add(Activation('relu'))\n",
    "model3.add(MaxPooling2D(pool_size=(2, 2)))\n",
    "\n",
    "model3.add(Conv2D(32, (3, 3)))\n",
    "model3.add(Activation('relu'))\n",
    "model3.add(MaxPooling2D(pool_size=(2, 2)))\n",
    "\n",
    "model3.add(Conv2D(64, (3, 3), padding='same'))\n",
    "model3.add(Activation('relu'))\n",
    "model3.add(Conv2D(64, (3, 3)))\n",
    "model3.add(Activation('relu'))\n",
    "model3.add(MaxPooling2D(pool_size=(2, 2)))\n",
    "model3.add(Dropout(0))\n",
    "\n",
    "model3.add(Flatten())\n",
    "model3.add(Dense(512))\n",
    "model3.add(Activation('relu'))\n",
    "model3.add(Dropout(0.25))\n",
    "model3.add(Dense(num_classes))\n",
    "model3.add(Activation('softmax'))\n",
    "\n",
    "model3.compile(optimizer='adam',\n",
    "              loss='categorical_crossentropy',\n",
    "              metrics=['acc'])"
   ]
  },
  {
   "cell_type": "code",
   "execution_count": 42,
   "metadata": {},
   "outputs": [
    {
     "name": "stdout",
     "output_type": "stream",
     "text": [
      "Epoch 1/15\n",
      "17/17 [==============================] - 197s 12s/step - loss: 2.4183 - acc: 0.1327 - val_loss: 2.2647 - val_acc: 0.1211\n",
      "\n",
      "Epoch 00001: val_acc improved from -inf to 0.12109, saving model to C:\\Users\\rebec\\Desktop\\Fall 2018\\CS167\\Project C/model.h5f\n",
      "Epoch 2/15\n",
      "17/17 [==============================] - 184s 11s/step - loss: 2.1793 - acc: 0.2056 - val_loss: 2.1556 - val_acc: 0.2070\n",
      "\n",
      "Epoch 00002: val_acc improved from 0.12109 to 0.20703, saving model to C:\\Users\\rebec\\Desktop\\Fall 2018\\CS167\\Project C/model.h5f\n",
      "Epoch 3/15\n",
      "17/17 [==============================] - 188s 11s/step - loss: 2.0427 - acc: 0.2593 - val_loss: 1.8797 - val_acc: 0.3516\n",
      "\n",
      "Epoch 00003: val_acc improved from 0.20703 to 0.35156, saving model to C:\\Users\\rebec\\Desktop\\Fall 2018\\CS167\\Project C/model.h5f\n",
      "Epoch 4/15\n",
      "17/17 [==============================] - 157s 9s/step - loss: 1.8745 - acc: 0.3558 - val_loss: 1.6068 - val_acc: 0.4219\n",
      "\n",
      "Epoch 00004: val_acc improved from 0.35156 to 0.42188, saving model to C:\\Users\\rebec\\Desktop\\Fall 2018\\CS167\\Project C/model.h5f\n",
      "Epoch 5/15\n",
      "17/17 [==============================] - 155s 9s/step - loss: 1.6874 - acc: 0.3732 - val_loss: 1.6336 - val_acc: 0.4378\n",
      "\n",
      "Epoch 00005: val_acc improved from 0.42188 to 0.43781, saving model to C:\\Users\\rebec\\Desktop\\Fall 2018\\CS167\\Project C/model.h5f\n",
      "Epoch 6/15\n",
      "17/17 [==============================] - 117s 7s/step - loss: 1.6713 - acc: 0.4008 - val_loss: 1.5269 - val_acc: 0.3945\n",
      "\n",
      "Epoch 00006: val_acc did not improve from 0.43781\n",
      "Epoch 7/15\n",
      "17/17 [==============================] - 137s 8s/step - loss: 1.5495 - acc: 0.4364 - val_loss: 1.7429 - val_acc: 0.4258\n",
      "\n",
      "Epoch 00007: val_acc did not improve from 0.43781\n",
      "Epoch 8/15\n",
      "17/17 [==============================] - 158s 9s/step - loss: 1.5461 - acc: 0.4271 - val_loss: 1.5816 - val_acc: 0.4648\n",
      "\n",
      "Epoch 00008: val_acc improved from 0.43781 to 0.46484, saving model to C:\\Users\\rebec\\Desktop\\Fall 2018\\CS167\\Project C/model.h5f\n",
      "Epoch 9/15\n",
      "17/17 [==============================] - 173s 10s/step - loss: 1.4305 - acc: 0.4651 - val_loss: 1.3252 - val_acc: 0.5423\n",
      "\n",
      "Epoch 00009: val_acc improved from 0.46484 to 0.54229, saving model to C:\\Users\\rebec\\Desktop\\Fall 2018\\CS167\\Project C/model.h5f\n",
      "Epoch 10/15\n",
      "17/17 [==============================] - 118s 7s/step - loss: 1.3465 - acc: 0.5197 - val_loss: 1.3442 - val_acc: 0.5195\n",
      "\n",
      "Epoch 00010: val_acc did not improve from 0.54229\n",
      "Epoch 11/15\n",
      "17/17 [==============================] - 136s 8s/step - loss: 1.3719 - acc: 0.5128 - val_loss: 1.3230 - val_acc: 0.5312\n",
      "\n",
      "Epoch 00011: val_acc did not improve from 0.54229\n",
      "Epoch 12/15\n",
      "17/17 [==============================] - 136s 8s/step - loss: 1.3328 - acc: 0.5226 - val_loss: 1.2191 - val_acc: 0.5898\n",
      "\n",
      "Epoch 00012: val_acc improved from 0.54229 to 0.58984, saving model to C:\\Users\\rebec\\Desktop\\Fall 2018\\CS167\\Project C/model.h5f\n",
      "Epoch 13/15\n",
      "17/17 [==============================] - 165s 10s/step - loss: 1.2798 - acc: 0.5280 - val_loss: 1.2890 - val_acc: 0.5039\n",
      "\n",
      "Epoch 00013: val_acc did not improve from 0.58984\n",
      "Epoch 14/15\n",
      "17/17 [==============================] - 176s 10s/step - loss: 1.3400 - acc: 0.5358 - val_loss: 1.2645 - val_acc: 0.6070\n",
      "\n",
      "Epoch 00014: val_acc improved from 0.58984 to 0.60697, saving model to C:\\Users\\rebec\\Desktop\\Fall 2018\\CS167\\Project C/model.h5f\n",
      "Epoch 15/15\n",
      "17/17 [==============================] - 105s 6s/step - loss: 1.2866 - acc: 0.5280 - val_loss: 1.1407 - val_acc: 0.6016\n",
      "\n",
      "Epoch 00015: val_acc did not improve from 0.60697\n"
     ]
    }
   ],
   "source": [
    "filepath3=str(os.getcwd()+\"/model.h5f\")\n",
    "checkpoint3 = ModelCheckpoint(filepath3, monitor='val_acc', verbose=1, save_best_only=True, mode='max')\n",
    "# = EarlyStopping(monitor='val_acc', patience=15)\n",
    "callbacks_list3 = [checkpoint3]#, stopper]\n",
    "\n",
    "history3 = model3.fit_generator(train_generator,\n",
    "                              steps_per_epoch= train_num // batch_size,\n",
    "                              epochs=epochs,\n",
    "                              validation_data=train_generator,\n",
    "                              validation_steps= validation_num // batch_size,\n",
    "                              callbacks=callbacks_list3, \n",
    "                              verbose = 1\n",
    "                             )"
   ]
  },
  {
   "cell_type": "code",
   "execution_count": 43,
   "metadata": {},
   "outputs": [
    {
     "data": {
      "image/png": "[encoded data removed]",
      "text/plain": [
       "<Figure size 432x288 with 1 Axes>"
      ]
     },
     "metadata": {
      "needs_background": "light"
     },
     "output_type": "display_data"
    }
   ],
   "source": [
    "acc = history3.history['acc']\n",
    "val_acc = history3.history['val_acc']\n",
    "loss = history3.history['loss']\n",
    "val_loss = history3.history['val_loss']\n",
    "epochs = range(1, len(acc) + 1)\n",
    "\n",
    "plt.title('Training and validation accuracy')\n",
    "plt.plot(epochs, acc, 'red', label='Training acc')\n",
    "plt.plot(epochs, val_acc, 'blue', label='Validation acc')\n",
    "plt.legend()\n",
    "plt.show()"
   ]
  },
  {
   "cell_type": "code",
   "execution_count": 46,
   "metadata": {},
   "outputs": [],
   "source": [
    "model4 = Sequential()\n",
    "model4.add(Conv2D(32, (3, 3), input_shape=(150, 150, 3)))\n",
    "model4.add(Activation('relu'))\n",
    "model4.add(MaxPooling2D(pool_size=(2, 2)))\n",
    "\n",
    "model4.add(Conv2D(32, (3, 3)))\n",
    "model4.add(Activation('relu'))\n",
    "model4.add(MaxPooling2D(pool_size=(2, 2)))\n",
    "\n",
    "model4.add(Conv2D(64, (3, 3), padding='same'))\n",
    "model4.add(Activation('relu'))\n",
    "model4.add(Conv2D(64, (3, 3)))\n",
    "model4.add(Activation('relu'))\n",
    "model4.add(MaxPooling2D(pool_size=(2, 2)))\n",
    "model4.add(Dropout(0.25))\n",
    "\n",
    "model4.add(Flatten())\n",
    "model4.add(Dense(128))\n",
    "model4.add(Activation('relu'))\n",
    "model4.add(Dropout(0.5))\n",
    "model4.add(Dense(num_classes))\n",
    "model4.add(Activation('softmax'))\n",
    "\n",
    "model4.compile(optimizer='adam',\n",
    "              loss='categorical_crossentropy',\n",
    "              metrics=['acc'])"
   ]
  },
  {
   "cell_type": "code",
   "execution_count": 47,
   "metadata": {
    "collapsed": true
   },
   "outputs": [
    {
     "name": "stdout",
     "output_type": "stream",
     "text": [
      "Epoch 1/15\n",
      "17/17 [==============================] - 149s 9s/step - loss: 2.2950 - acc: 0.1224 - val_loss: 2.2196 - val_acc: 0.2148\n",
      "\n",
      "Epoch 00001: val_acc improved from -inf to 0.21484, saving model to C:\\Users\\rebec\\Desktop\\Fall 2018\\CS167\\Project C/model.h5f\n",
      "Epoch 2/15\n",
      "17/17 [==============================] - 141s 8s/step - loss: 2.1287 - acc: 0.2233 - val_loss: 2.0130 - val_acc: 0.2656\n",
      "\n",
      "Epoch 00002: val_acc improved from 0.21484 to 0.26562, saving model to C:\\Users\\rebec\\Desktop\\Fall 2018\\CS167\\Project C/model.h5f\n",
      "Epoch 3/15\n",
      "17/17 [==============================] - 126s 7s/step - loss: 1.9820 - acc: 0.2683 - val_loss: 1.8669 - val_acc: 0.3008\n",
      "\n",
      "Epoch 00003: val_acc improved from 0.26562 to 0.30078, saving model to C:\\Users\\rebec\\Desktop\\Fall 2018\\CS167\\Project C/model.h5f\n",
      "Epoch 4/15\n",
      "17/17 [==============================] - 141s 8s/step - loss: 1.8723 - acc: 0.3189 - val_loss: 1.6513 - val_acc: 0.4453\n",
      "\n",
      "Epoch 00004: val_acc improved from 0.30078 to 0.44531, saving model to C:\\Users\\rebec\\Desktop\\Fall 2018\\CS167\\Project C/model.h5f\n",
      "Epoch 5/15\n",
      "17/17 [==============================] - 128s 8s/step - loss: 1.8139 - acc: 0.3657 - val_loss: 1.6463 - val_acc: 0.4179\n",
      "\n",
      "Epoch 00005: val_acc did not improve from 0.44531\n",
      "Epoch 6/15\n",
      "17/17 [==============================] - 129s 8s/step - loss: 1.7283 - acc: 0.3676 - val_loss: 1.5862 - val_acc: 0.4102\n",
      "\n",
      "Epoch 00006: val_acc did not improve from 0.44531\n",
      "Epoch 7/15\n",
      "17/17 [==============================] - 131s 8s/step - loss: 1.6420 - acc: 0.3911 - val_loss: 1.6293 - val_acc: 0.4141\n",
      "\n",
      "Epoch 00007: val_acc did not improve from 0.44531\n",
      "Epoch 8/15\n",
      "17/17 [==============================] - 141s 8s/step - loss: 1.6148 - acc: 0.4246 - val_loss: 1.3916 - val_acc: 0.5352\n",
      "\n",
      "Epoch 00008: val_acc improved from 0.44531 to 0.53516, saving model to C:\\Users\\rebec\\Desktop\\Fall 2018\\CS167\\Project C/model.h5f\n",
      "Epoch 9/15\n",
      "17/17 [==============================] - 136s 8s/step - loss: 1.6651 - acc: 0.3989 - val_loss: 1.4974 - val_acc: 0.4677\n",
      "\n",
      "Epoch 00009: val_acc did not improve from 0.53516\n",
      "Epoch 10/15\n",
      "17/17 [==============================] - 130s 8s/step - loss: 1.5697 - acc: 0.4396 - val_loss: 1.3402 - val_acc: 0.5625\n",
      "\n",
      "Epoch 00010: val_acc improved from 0.53516 to 0.56250, saving model to C:\\Users\\rebec\\Desktop\\Fall 2018\\CS167\\Project C/model.h5f\n",
      "Epoch 11/15\n",
      "17/17 [==============================] - 139s 8s/step - loss: 1.4458 - acc: 0.4678 - val_loss: 1.3392 - val_acc: 0.5000\n",
      "\n",
      "Epoch 00011: val_acc did not improve from 0.56250\n",
      "Epoch 12/15\n",
      "17/17 [==============================] - 135s 8s/step - loss: 1.5538 - acc: 0.4340 - val_loss: 1.3319 - val_acc: 0.5078\n",
      "\n",
      "Epoch 00012: val_acc did not improve from 0.56250\n",
      "Epoch 13/15\n",
      "17/17 [==============================] - 128s 8s/step - loss: 1.4032 - acc: 0.4797 - val_loss: 1.4018 - val_acc: 0.4922\n",
      "\n",
      "Epoch 00013: val_acc did not improve from 0.56250\n",
      "Epoch 14/15\n",
      "17/17 [==============================] - 145s 9s/step - loss: 1.4718 - acc: 0.4743 - val_loss: 1.2887 - val_acc: 0.5572\n",
      "\n",
      "Epoch 00014: val_acc did not improve from 0.56250\n",
      "Epoch 15/15\n",
      "17/17 [==============================] - 136s 8s/step - loss: 1.4259 - acc: 0.4596 - val_loss: 1.2651 - val_acc: 0.5352\n",
      "\n",
      "Epoch 00015: val_acc did not improve from 0.56250\n"
     ]
    }
   ],
   "source": [
    "filepath4=str(os.getcwd()+\"/model.h5f\")\n",
    "checkpoint4 = ModelCheckpoint(filepath4, monitor='val_acc', verbose=1, save_best_only=True, mode='max')\n",
    "# = EarlyStopping(monitor='val_acc', patience=15)\n",
    "callbacks_list4 = [checkpoint4]#, stopper]\n",
    "\n",
    "history4 = model4.fit_generator(train_generator,\n",
    "                              steps_per_epoch= train_num // batch_size,\n",
    "                              epochs=epochs,\n",
    "                              validation_data=train_generator,\n",
    "                              validation_steps= validation_num // batch_size,\n",
    "                              callbacks=callbacks_list4, \n",
    "                              verbose = 1\n",
    "                             )"
   ]
  },
  {
   "cell_type": "code",
   "execution_count": 48,
   "metadata": {},
   "outputs": [
    {
     "data": {
      "image/png": "[encoded data removed]",
      "text/plain": [
       "<Figure size 432x288 with 1 Axes>"
      ]
     },
     "metadata": {
      "needs_background": "light"
     },
     "output_type": "display_data"
    }
   ],
   "source": [
    "acc = history4.history['acc']\n",
    "val_acc = history4.history['val_acc']\n",
    "loss = history4.history['loss']\n",
    "val_loss = history4.history['val_loss']\n",
    "epochs = range(1, len(acc) + 1)\n",
    "\n",
    "plt.title('Training and validation accuracy')\n",
    "plt.plot(epochs, acc, 'red', label='Training acc')\n",
    "plt.plot(epochs, val_acc, 'blue', label='Validation acc')\n",
    "plt.legend()\n",
    "plt.show()"
   ]
  },
  {
   "cell_type": "code",
   "execution_count": 52,
   "metadata": {},
   "outputs": [],
   "source": [
    "model5 = Sequential()\n",
    "model5.add(Conv2D(32, (3, 3), input_shape=(150, 150, 3)))\n",
    "model5.add(Activation('relu'))\n",
    "model5.add(MaxPooling2D(pool_size=(2, 2)))\n",
    "\n",
    "model5.add(Conv2D(32, (3, 3)))\n",
    "model5.add(Activation('relu'))\n",
    "model5.add(MaxPooling2D(pool_size=(2, 2)))\n",
    "\n",
    "model5.add(Conv2D(64, (3, 3), padding='same'))\n",
    "model5.add(Activation('relu'))\n",
    "model5.add(Conv2D(64, (3, 3)))\n",
    "model5.add(Activation('relu'))\n",
    "model5.add(MaxPooling2D(pool_size=(2, 2)))\n",
    "model5.add(Dropout(0.25))\n",
    "\n",
    "model5.add(Flatten())\n",
    "model5.add(Dense(1024))\n",
    "model5.add(Activation('relu'))\n",
    "model5.add(Dropout(0.5))\n",
    "model5.add(Dense(num_classes))\n",
    "model5.add(Activation('softmax'))\n",
    "\n",
    "model5.compile(optimizer='adam',\n",
    "              loss='categorical_crossentropy',\n",
    "              metrics=['acc'])"
   ]
  },
  {
   "cell_type": "code",
   "execution_count": 53,
   "metadata": {
    "collapsed": true
   },
   "outputs": [
    {
     "name": "stdout",
     "output_type": "stream",
     "text": [
      "Epoch 1/15\n",
      "17/17 [==============================] - 173s 10s/step - loss: 2.2818 - acc: 0.1259 - val_loss: 2.1971 - val_acc: 0.1992\n",
      "\n",
      "Epoch 00001: val_acc improved from -inf to 0.19922, saving model to C:\\Users\\rebec\\Desktop\\Fall 2018\\CS167\\Project C/model.h5f\n",
      "Epoch 2/15\n",
      "17/17 [==============================] - 134s 8s/step - loss: 2.0476 - acc: 0.2658 - val_loss: 1.9371 - val_acc: 0.2734\n",
      "\n",
      "Epoch 00002: val_acc improved from 0.19922 to 0.27344, saving model to C:\\Users\\rebec\\Desktop\\Fall 2018\\CS167\\Project C/model.h5f\n",
      "Epoch 3/15\n",
      "17/17 [==============================] - 140s 8s/step - loss: 1.8745 - acc: 0.2957 - val_loss: 2.0621 - val_acc: 0.3047\n",
      "\n",
      "Epoch 00003: val_acc improved from 0.27344 to 0.30469, saving model to C:\\Users\\rebec\\Desktop\\Fall 2018\\CS167\\Project C/model.h5f\n",
      "Epoch 4/15\n",
      "17/17 [==============================] - 141s 8s/step - loss: 1.7423 - acc: 0.3690 - val_loss: 1.5976 - val_acc: 0.4062\n",
      "\n",
      "Epoch 00004: val_acc improved from 0.30469 to 0.40625, saving model to C:\\Users\\rebec\\Desktop\\Fall 2018\\CS167\\Project C/model.h5f\n",
      "Epoch 5/15\n",
      "17/17 [==============================] - 125s 7s/step - loss: 1.6208 - acc: 0.3886 - val_loss: 1.5177 - val_acc: 0.4428\n",
      "\n",
      "Epoch 00005: val_acc improved from 0.40625 to 0.44279, saving model to C:\\Users\\rebec\\Desktop\\Fall 2018\\CS167\\Project C/model.h5f\n",
      "Epoch 6/15\n",
      "17/17 [==============================] - 80s 5s/step - loss: 1.5668 - acc: 0.4171 - val_loss: 1.6718 - val_acc: 0.3867\n",
      "\n",
      "Epoch 00006: val_acc did not improve from 0.44279\n",
      "Epoch 7/15\n",
      "17/17 [==============================] - 74s 4s/step - loss: 1.5107 - acc: 0.4476 - val_loss: 1.2934 - val_acc: 0.5273\n",
      "\n",
      "Epoch 00007: val_acc improved from 0.44279 to 0.52734, saving model to C:\\Users\\rebec\\Desktop\\Fall 2018\\CS167\\Project C/model.h5f\n",
      "Epoch 8/15\n",
      "17/17 [==============================] - 66s 4s/step - loss: 1.4291 - acc: 0.4864 - val_loss: 1.5788 - val_acc: 0.3789\n",
      "\n",
      "Epoch 00008: val_acc did not improve from 0.52734\n",
      "Epoch 9/15\n",
      "17/17 [==============================] - 73s 4s/step - loss: 1.4586 - acc: 0.4697 - val_loss: 1.1833 - val_acc: 0.5572\n",
      "\n",
      "Epoch 00009: val_acc improved from 0.52734 to 0.55721, saving model to C:\\Users\\rebec\\Desktop\\Fall 2018\\CS167\\Project C/model.h5f\n",
      "Epoch 10/15\n",
      "17/17 [==============================] - 72s 4s/step - loss: 1.3351 - acc: 0.5073 - val_loss: 1.3674 - val_acc: 0.5195\n",
      "\n",
      "Epoch 00010: val_acc did not improve from 0.55721\n",
      "Epoch 11/15\n",
      "17/17 [==============================] - 72s 4s/step - loss: 1.3922 - acc: 0.5089 - val_loss: 1.4342 - val_acc: 0.4688\n",
      "\n",
      "Epoch 00011: val_acc did not improve from 0.55721\n",
      "Epoch 12/15\n",
      "17/17 [==============================] - 70s 4s/step - loss: 1.3901 - acc: 0.5169 - val_loss: 1.3626 - val_acc: 0.5039\n",
      "\n",
      "Epoch 00012: val_acc did not improve from 0.55721\n",
      "Epoch 13/15\n",
      "17/17 [==============================] - 71s 4s/step - loss: 1.3415 - acc: 0.5084 - val_loss: 1.2968 - val_acc: 0.5312\n",
      "\n",
      "Epoch 00013: val_acc did not improve from 0.55721\n",
      "Epoch 14/15\n",
      "17/17 [==============================] - 70s 4s/step - loss: 1.3701 - acc: 0.5172 - val_loss: 1.2323 - val_acc: 0.5572\n",
      "\n",
      "Epoch 00014: val_acc improved from 0.55721 to 0.55721, saving model to C:\\Users\\rebec\\Desktop\\Fall 2018\\CS167\\Project C/model.h5f\n",
      "Epoch 15/15\n",
      "17/17 [==============================] - 70s 4s/step - loss: 1.2374 - acc: 0.5520 - val_loss: 1.1745 - val_acc: 0.5703\n",
      "\n",
      "Epoch 00015: val_acc improved from 0.55721 to 0.57031, saving model to C:\\Users\\rebec\\Desktop\\Fall 2018\\CS167\\Project C/model.h5f\n"
     ]
    }
   ],
   "source": [
    "filepath5=str(os.getcwd()+\"/model.h5f\")\n",
    "checkpoint5 = ModelCheckpoint(filepath5, monitor='val_acc', verbose=1, save_best_only=True, mode='max')\n",
    "# = EarlyStopping(monitor='val_acc', patience=15)\n",
    "callbacks_list5 = [checkpoint5]#, stopper]\n",
    "\n",
    "history5 = model5.fit_generator(train_generator,\n",
    "                              steps_per_epoch= train_num // batch_size,\n",
    "                              epochs=epochs,\n",
    "                              validation_data=train_generator,\n",
    "                              validation_steps= validation_num // batch_size,\n",
    "                              callbacks=callbacks_list5, \n",
    "                              verbose = 1\n",
    "                             )"
   ]
  },
  {
   "cell_type": "code",
   "execution_count": 6,
   "metadata": {
    "collapsed": true
   },
   "outputs": [
    {
     "ename": "NameError",
     "evalue": "name 'history5' is not defined",
     "output_type": "error",
     "traceback": [
      "\u001b[1;31m---------------------------------------------------------------------------\u001b[0m",
      "\u001b[1;31mNameError\u001b[0m                                 Traceback (most recent call last)",
      "\u001b[1;32m<ipython-input-6-1a3fa6c2f10c>\u001b[0m in \u001b[0;36m<module>\u001b[1;34m()\u001b[0m\n\u001b[1;32m----> 1\u001b[1;33m \u001b[0macc\u001b[0m \u001b[1;33m=\u001b[0m \u001b[0mhistory5\u001b[0m\u001b[1;33m.\u001b[0m\u001b[0mhistory\u001b[0m\u001b[1;33m[\u001b[0m\u001b[1;34m'acc'\u001b[0m\u001b[1;33m]\u001b[0m\u001b[1;33m\u001b[0m\u001b[0m\n\u001b[0m\u001b[0;32m      2\u001b[0m \u001b[0mval_acc\u001b[0m \u001b[1;33m=\u001b[0m \u001b[0mhistory5\u001b[0m\u001b[1;33m.\u001b[0m\u001b[0mhistory\u001b[0m\u001b[1;33m[\u001b[0m\u001b[1;34m'val_acc'\u001b[0m\u001b[1;33m]\u001b[0m\u001b[1;33m\u001b[0m\u001b[0m\n\u001b[0;32m      3\u001b[0m \u001b[0mloss\u001b[0m \u001b[1;33m=\u001b[0m \u001b[0mhistory5\u001b[0m\u001b[1;33m.\u001b[0m\u001b[0mhistory\u001b[0m\u001b[1;33m[\u001b[0m\u001b[1;34m'loss'\u001b[0m\u001b[1;33m]\u001b[0m\u001b[1;33m\u001b[0m\u001b[0m\n\u001b[0;32m      4\u001b[0m \u001b[0mval_loss\u001b[0m \u001b[1;33m=\u001b[0m \u001b[0mhistory5\u001b[0m\u001b[1;33m.\u001b[0m\u001b[0mhistory\u001b[0m\u001b[1;33m[\u001b[0m\u001b[1;34m'val_loss'\u001b[0m\u001b[1;33m]\u001b[0m\u001b[1;33m\u001b[0m\u001b[0m\n\u001b[0;32m      5\u001b[0m \u001b[0mepochs\u001b[0m \u001b[1;33m=\u001b[0m \u001b[0mrange\u001b[0m\u001b[1;33m(\u001b[0m\u001b[1;36m1\u001b[0m\u001b[1;33m,\u001b[0m \u001b[0mlen\u001b[0m\u001b[1;33m(\u001b[0m\u001b[0macc\u001b[0m\u001b[1;33m)\u001b[0m \u001b[1;33m+\u001b[0m \u001b[1;36m1\u001b[0m\u001b[1;33m)\u001b[0m\u001b[1;33m\u001b[0m\u001b[0m\n",
      "\u001b[1;31mNameError\u001b[0m: name 'history5' is not defined"
     ]
    }
   ],
   "source": [
    "acc = history5.history['acc']\n",
    "val_acc = history5.history['val_acc']\n",
    "loss = history5.history['loss']\n",
    "val_loss = history5.history['val_loss']\n",
    "epochs = range(1, len(acc) + 1)\n",
    "\n",
    "plt.title('Training and validation accuracy')\n",
    "plt.plot(epochs, acc, 'red', label='Training acc')\n",
    "plt.plot(epochs, val_acc, 'blue', label='Validation acc')\n",
    "plt.legend()\n",
    "plt.show()"
   ]
  },
  {
   "cell_type": "code",
   "execution_count": 12,
   "metadata": {},
   "outputs": [],
   "source": [
    "model6 = Sequential()\n",
    "model6.add(Conv2D(32, (3, 3), input_shape=(150, 150, 3)))\n",
    "model6.add(Activation('relu'))\n",
    "model6.add(MaxPooling2D(pool_size=(2, 2)))\n",
    "\n",
    "model6.add(Conv2D(32, (3, 3)))\n",
    "model6.add(Activation('relu'))\n",
    "model6.add(MaxPooling2D(pool_size=(2, 2)))\n",
    "model6.add(Dropout(0.25))\n",
    "\n",
    "model6.add(Conv2D(64, (3, 3), padding='same'))\n",
    "model6.add(Activation('relu'))\n",
    "model6.add(Conv2D(64, (3, 3)))\n",
    "model6.add(Activation('relu'))\n",
    "model6.add(MaxPooling2D(pool_size=(2, 2)))\n",
    "model6.add(Dropout(0.5))\n",
    "\n",
    "model6.add(Flatten())\n",
    "model6.add(Dense(512))\n",
    "model6.add(Activation('relu'))\n",
    "model6.add(Dropout(0.75))\n",
    "model6.add(Dense(num_classes))\n",
    "model6.add(Activation('softmax'))\n",
    "\n",
    "model6.compile(optimizer='adam',\n",
    "              loss='categorical_crossentropy',\n",
    "              metrics=['acc'])"
   ]
  },
  {
   "cell_type": "code",
   "execution_count": 13,
   "metadata": {
    "collapsed": true
   },
   "outputs": [
    {
     "name": "stdout",
     "output_type": "stream",
     "text": [
      "Epoch 1/15\n",
      "17/17 [==============================] - 114s 7s/step - loss: 2.3235 - acc: 0.1182 - val_loss: 2.2888 - val_acc: 0.1172\n",
      "\n",
      "Epoch 00001: val_acc improved from -inf to 0.11719, saving model to C:\\Users\\rebec\\Desktop\\Fall 2018\\CS167\\Project C/model.h5f\n",
      "Epoch 2/15\n",
      "17/17 [==============================] - 140s 8s/step - loss: 2.2633 - acc: 0.1544 - val_loss: 2.2092 - val_acc: 0.1875\n",
      "\n",
      "Epoch 00002: val_acc improved from 0.11719 to 0.18750, saving model to C:\\Users\\rebec\\Desktop\\Fall 2018\\CS167\\Project C/model.h5f\n",
      "Epoch 3/15\n",
      "17/17 [==============================] - 133s 8s/step - loss: 2.2167 - acc: 0.1750 - val_loss: 2.2035 - val_acc: 0.1992\n",
      "\n",
      "Epoch 00003: val_acc improved from 0.18750 to 0.19922, saving model to C:\\Users\\rebec\\Desktop\\Fall 2018\\CS167\\Project C/model.h5f\n",
      "Epoch 4/15\n",
      "17/17 [==============================] - 139s 8s/step - loss: 2.2150 - acc: 0.2060 - val_loss: 2.0233 - val_acc: 0.3086\n",
      "\n",
      "Epoch 00004: val_acc improved from 0.19922 to 0.30859, saving model to C:\\Users\\rebec\\Desktop\\Fall 2018\\CS167\\Project C/model.h5f\n",
      "Epoch 5/15\n",
      "17/17 [==============================] - 148s 9s/step - loss: 2.0981 - acc: 0.2420 - val_loss: 2.0273 - val_acc: 0.2836\n",
      "\n",
      "Epoch 00005: val_acc did not improve from 0.30859\n",
      "Epoch 6/15\n",
      "17/17 [==============================] - 133s 8s/step - loss: 2.0108 - acc: 0.2955 - val_loss: 1.9256 - val_acc: 0.3203\n",
      "\n",
      "Epoch 00006: val_acc improved from 0.30859 to 0.32031, saving model to C:\\Users\\rebec\\Desktop\\Fall 2018\\CS167\\Project C/model.h5f\n",
      "Epoch 7/15\n",
      "17/17 [==============================] - 156s 9s/step - loss: 1.9326 - acc: 0.3365 - val_loss: 1.8303 - val_acc: 0.3750\n",
      "\n",
      "Epoch 00007: val_acc improved from 0.32031 to 0.37500, saving model to C:\\Users\\rebec\\Desktop\\Fall 2018\\CS167\\Project C/model.h5f\n",
      "Epoch 8/15\n",
      "17/17 [==============================] - 144s 8s/step - loss: 1.9012 - acc: 0.3194 - val_loss: 1.7883 - val_acc: 0.4062\n",
      "\n",
      "Epoch 00008: val_acc improved from 0.37500 to 0.40625, saving model to C:\\Users\\rebec\\Desktop\\Fall 2018\\CS167\\Project C/model.h5f\n",
      "Epoch 9/15\n",
      "17/17 [==============================] - 139s 8s/step - loss: 1.8206 - acc: 0.3445 - val_loss: 1.5829 - val_acc: 0.4478\n",
      "\n",
      "Epoch 00009: val_acc improved from 0.40625 to 0.44776, saving model to C:\\Users\\rebec\\Desktop\\Fall 2018\\CS167\\Project C/model.h5f\n",
      "Epoch 10/15\n",
      "17/17 [==============================] - 142s 8s/step - loss: 1.7450 - acc: 0.3671 - val_loss: 1.4987 - val_acc: 0.4570\n",
      "\n",
      "Epoch 00010: val_acc improved from 0.44776 to 0.45703, saving model to C:\\Users\\rebec\\Desktop\\Fall 2018\\CS167\\Project C/model.h5f\n",
      "Epoch 11/15\n",
      "17/17 [==============================] - 148s 9s/step - loss: 1.6758 - acc: 0.3906 - val_loss: 1.4883 - val_acc: 0.4805\n",
      "\n",
      "Epoch 00011: val_acc improved from 0.45703 to 0.48047, saving model to C:\\Users\\rebec\\Desktop\\Fall 2018\\CS167\\Project C/model.h5f\n",
      "Epoch 12/15\n",
      "17/17 [==============================] - 104s 6s/step - loss: 1.5838 - acc: 0.4214 - val_loss: 1.5465 - val_acc: 0.4570\n",
      "\n",
      "Epoch 00012: val_acc did not improve from 0.48047\n",
      "Epoch 13/15\n",
      "17/17 [==============================] - 124s 7s/step - loss: 1.6151 - acc: 0.4164 - val_loss: 1.4441 - val_acc: 0.4570\n",
      "\n",
      "Epoch 00013: val_acc did not improve from 0.48047\n",
      "Epoch 14/15\n",
      "17/17 [==============================] - 143s 8s/step - loss: 1.5692 - acc: 0.4347 - val_loss: 1.5089 - val_acc: 0.4279\n",
      "\n",
      "Epoch 00014: val_acc did not improve from 0.48047\n",
      "Epoch 15/15\n",
      "17/17 [==============================] - 138s 8s/step - loss: 1.5754 - acc: 0.4213 - val_loss: 1.4005 - val_acc: 0.5039\n",
      "\n",
      "Epoch 00015: val_acc improved from 0.48047 to 0.50391, saving model to C:\\Users\\rebec\\Desktop\\Fall 2018\\CS167\\Project C/model.h5f\n"
     ]
    }
   ],
   "source": [
    "filepath6=str(os.getcwd()+\"/model.h5f\")\n",
    "checkpoint6 = ModelCheckpoint(filepath6, monitor='val_acc', verbose=1, save_best_only=True, mode='max')\n",
    "# = EarlyStopping(monitor='val_acc', patience=15)\n",
    "callbacks_list6 = [checkpoint6]#, stopper]\n",
    "\n",
    "history6 = model6.fit_generator(train_generator,\n",
    "                              steps_per_epoch= train_num // batch_size,\n",
    "                              epochs=epochs,\n",
    "                              validation_data=train_generator,\n",
    "                              validation_steps= validation_num // batch_size,\n",
    "                              callbacks=callbacks_list6, \n",
    "                              verbose = 1\n",
    "                             )"
   ]
  },
  {
   "cell_type": "code",
   "execution_count": 14,
   "metadata": {},
   "outputs": [
    {
     "data": {
      "image/png": "[encoded data removed]",
      "text/plain": [
       "<Figure size 432x288 with 1 Axes>"
      ]
     },
     "metadata": {
      "needs_background": "light"
     },
     "output_type": "display_data"
    }
   ],
   "source": [
    "acc = history6.history['acc']\n",
    "val_acc = history6.history['val_acc']\n",
    "loss = history6.history['loss']\n",
    "val_loss = history6.history['val_loss']\n",
    "epochs = range(1, len(acc) + 1)\n",
    "\n",
    "plt.title('Training and validation accuracy')\n",
    "plt.plot(epochs, acc, 'red', label='Training acc')\n",
    "plt.plot(epochs, val_acc, 'blue', label='Validation acc')\n",
    "plt.legend()\n",
    "plt.show()"
   ]
  },
  {
   "cell_type": "code",
   "execution_count": null,
   "metadata": {},
   "outputs": [],
   "source": []
  }
 ],
 "metadata": {
  "kernelspec": {
   "display_name": "Python 3",
   "language": "python",
   "name": "python3"
  }
 },
 "nbformat": 4,
 "nbformat_minor": 2
}
